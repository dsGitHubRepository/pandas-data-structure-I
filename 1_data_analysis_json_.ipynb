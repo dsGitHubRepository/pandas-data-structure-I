{
 "cells": [
  {
   "cell_type": "code",
   "execution_count": 45,
   "metadata": {},
   "outputs": [],
   "source": [
    "import pandas as pd\n",
    "import matplotlib.pyplot as plt"
   ]
  },
  {
   "cell_type": "code",
   "execution_count": 46,
   "metadata": {},
   "outputs": [
    {
     "data": {
      "text/html": [
       "<div>\n",
       "<style scoped>\n",
       "    .dataframe tbody tr th:only-of-type {\n",
       "        vertical-align: middle;\n",
       "    }\n",
       "\n",
       "    .dataframe tbody tr th {\n",
       "        vertical-align: top;\n",
       "    }\n",
       "\n",
       "    .dataframe thead th {\n",
       "        text-align: right;\n",
       "    }\n",
       "</style>\n",
       "<table border=\"1\" class=\"dataframe\">\n",
       "  <thead>\n",
       "    <tr style=\"text-align: right;\">\n",
       "      <th></th>\n",
       "      <th>countryname</th>\n",
       "      <th>countryshortname</th>\n",
       "    </tr>\n",
       "  </thead>\n",
       "  <tbody>\n",
       "    <tr>\n",
       "      <th>0</th>\n",
       "      <td>Federal Democratic Republic of Ethiopia</td>\n",
       "      <td>Ethiopia</td>\n",
       "    </tr>\n",
       "    <tr>\n",
       "      <th>1</th>\n",
       "      <td>Republic of Tunisia</td>\n",
       "      <td>Tunisia</td>\n",
       "    </tr>\n",
       "    <tr>\n",
       "      <th>2</th>\n",
       "      <td>Tuvalu</td>\n",
       "      <td>Tuvalu</td>\n",
       "    </tr>\n",
       "  </tbody>\n",
       "</table>\n",
       "</div>"
      ],
      "text/plain": [
       "                               countryname countryshortname\n",
       "0  Federal Democratic Republic of Ethiopia         Ethiopia\n",
       "1                      Republic of Tunisia          Tunisia\n",
       "2                                   Tuvalu           Tuvalu"
      ]
     },
     "execution_count": 46,
     "metadata": {},
     "output_type": "execute_result"
    }
   ],
   "source": [
    "data = pd.read_json('data/world_bank_projects.json')\n",
    "data[ ['countryname', 'countryshortname'] ].head(3)"
   ]
  },
  {
   "cell_type": "code",
   "execution_count": 47,
   "metadata": {},
   "outputs": [
    {
     "data": {
      "text/plain": [
       "(pandas.core.frame.DataFrame, 500)"
      ]
     },
     "execution_count": 47,
     "metadata": {},
     "output_type": "execute_result"
    }
   ],
   "source": [
    "type(data), len(data)"
   ]
  },
  {
   "cell_type": "code",
   "execution_count": 48,
   "metadata": {},
   "outputs": [
    {
     "data": {
      "text/plain": [
       "Index(['_id', 'approvalfy', 'board_approval_month', 'boardapprovaldate',\n",
       "       'borrower', 'closingdate', 'country_namecode', 'countrycode',\n",
       "       'countryname', 'countryshortname', 'docty', 'envassesmentcategorycode',\n",
       "       'grantamt', 'ibrdcommamt', 'id', 'idacommamt', 'impagency',\n",
       "       'lendinginstr', 'lendinginstrtype', 'lendprojectcost',\n",
       "       'majorsector_percent', 'mjsector_namecode', 'mjtheme',\n",
       "       'mjtheme_namecode', 'mjthemecode', 'prodline', 'prodlinetext',\n",
       "       'productlinetype', 'project_abstract', 'project_name', 'projectdocs',\n",
       "       'projectfinancialtype', 'projectstatusdisplay', 'regionname', 'sector',\n",
       "       'sector1', 'sector2', 'sector3', 'sector4', 'sector_namecode',\n",
       "       'sectorcode', 'source', 'status', 'supplementprojectflg', 'theme1',\n",
       "       'theme_namecode', 'themecode', 'totalamt', 'totalcommamt', 'url'],\n",
       "      dtype='object')"
      ]
     },
     "execution_count": 48,
     "metadata": {},
     "output_type": "execute_result"
    }
   ],
   "source": [
    "data.columns"
   ]
  },
  {
   "cell_type": "code",
   "execution_count": 49,
   "metadata": {},
   "outputs": [
    {
     "data": {
      "text/html": [
       "<div>\n",
       "<style scoped>\n",
       "    .dataframe tbody tr th:only-of-type {\n",
       "        vertical-align: middle;\n",
       "    }\n",
       "\n",
       "    .dataframe tbody tr th {\n",
       "        vertical-align: top;\n",
       "    }\n",
       "\n",
       "    .dataframe thead th {\n",
       "        text-align: right;\n",
       "    }\n",
       "</style>\n",
       "<table border=\"1\" class=\"dataframe\">\n",
       "  <thead>\n",
       "    <tr style=\"text-align: right;\">\n",
       "      <th></th>\n",
       "      <th>_id</th>\n",
       "      <th>approvalfy</th>\n",
       "      <th>board_approval_month</th>\n",
       "      <th>boardapprovaldate</th>\n",
       "      <th>borrower</th>\n",
       "      <th>closingdate</th>\n",
       "      <th>country_namecode</th>\n",
       "      <th>countrycode</th>\n",
       "      <th>countryname</th>\n",
       "      <th>countryshortname</th>\n",
       "      <th>...</th>\n",
       "      <th>sectorcode</th>\n",
       "      <th>source</th>\n",
       "      <th>status</th>\n",
       "      <th>supplementprojectflg</th>\n",
       "      <th>theme1</th>\n",
       "      <th>theme_namecode</th>\n",
       "      <th>themecode</th>\n",
       "      <th>totalamt</th>\n",
       "      <th>totalcommamt</th>\n",
       "      <th>url</th>\n",
       "    </tr>\n",
       "  </thead>\n",
       "  <tbody>\n",
       "    <tr>\n",
       "      <th>0</th>\n",
       "      <td>{'$oid': '52b213b38594d8a2be17c780'}</td>\n",
       "      <td>1999</td>\n",
       "      <td>November</td>\n",
       "      <td>2013-11-12T00:00:00Z</td>\n",
       "      <td>FEDERAL DEMOCRATIC REPUBLIC OF ETHIOPIA</td>\n",
       "      <td>2018-07-07T00:00:00Z</td>\n",
       "      <td>Federal Democratic Republic of Ethiopia!$!ET</td>\n",
       "      <td>ET</td>\n",
       "      <td>Federal Democratic Republic of Ethiopia</td>\n",
       "      <td>Ethiopia</td>\n",
       "      <td>...</td>\n",
       "      <td>ET,BS,ES,EP</td>\n",
       "      <td>IBRD</td>\n",
       "      <td>Active</td>\n",
       "      <td>N</td>\n",
       "      <td>{'Percent': 100, 'Name': 'Education for all'}</td>\n",
       "      <td>[{'code': '65', 'name': 'Education for all'}]</td>\n",
       "      <td>65</td>\n",
       "      <td>130000000</td>\n",
       "      <td>130000000</td>\n",
       "      <td>http://www.worldbank.org/projects/P129828/ethi...</td>\n",
       "    </tr>\n",
       "    <tr>\n",
       "      <th>1</th>\n",
       "      <td>{'$oid': '52b213b38594d8a2be17c781'}</td>\n",
       "      <td>2015</td>\n",
       "      <td>November</td>\n",
       "      <td>2013-11-04T00:00:00Z</td>\n",
       "      <td>GOVERNMENT OF TUNISIA</td>\n",
       "      <td>NaN</td>\n",
       "      <td>Republic of Tunisia!$!TN</td>\n",
       "      <td>TN</td>\n",
       "      <td>Republic of Tunisia</td>\n",
       "      <td>Tunisia</td>\n",
       "      <td>...</td>\n",
       "      <td>BZ,BS</td>\n",
       "      <td>IBRD</td>\n",
       "      <td>Active</td>\n",
       "      <td>N</td>\n",
       "      <td>{'Percent': 30, 'Name': 'Other economic manage...</td>\n",
       "      <td>[{'code': '24', 'name': 'Other economic manage...</td>\n",
       "      <td>54,24</td>\n",
       "      <td>0</td>\n",
       "      <td>4700000</td>\n",
       "      <td>http://www.worldbank.org/projects/P144674?lang=en</td>\n",
       "    </tr>\n",
       "    <tr>\n",
       "      <th>2</th>\n",
       "      <td>{'$oid': '52b213b38594d8a2be17c782'}</td>\n",
       "      <td>2014</td>\n",
       "      <td>November</td>\n",
       "      <td>2013-11-01T00:00:00Z</td>\n",
       "      <td>MINISTRY OF FINANCE AND ECONOMIC DEVEL</td>\n",
       "      <td>NaN</td>\n",
       "      <td>Tuvalu!$!TV</td>\n",
       "      <td>TV</td>\n",
       "      <td>Tuvalu</td>\n",
       "      <td>Tuvalu</td>\n",
       "      <td>...</td>\n",
       "      <td>TI</td>\n",
       "      <td>IBRD</td>\n",
       "      <td>Active</td>\n",
       "      <td>Y</td>\n",
       "      <td>{'Percent': 46, 'Name': 'Regional integration'}</td>\n",
       "      <td>[{'code': '47', 'name': 'Regional integration'...</td>\n",
       "      <td>52,81,25,47</td>\n",
       "      <td>6060000</td>\n",
       "      <td>6060000</td>\n",
       "      <td>http://www.worldbank.org/projects/P145310?lang=en</td>\n",
       "    </tr>\n",
       "    <tr>\n",
       "      <th>3</th>\n",
       "      <td>{'$oid': '52b213b38594d8a2be17c783'}</td>\n",
       "      <td>2014</td>\n",
       "      <td>October</td>\n",
       "      <td>2013-10-31T00:00:00Z</td>\n",
       "      <td>MIN. OF PLANNING AND INT'L COOPERATION</td>\n",
       "      <td>NaN</td>\n",
       "      <td>Republic of Yemen!$!RY</td>\n",
       "      <td>RY</td>\n",
       "      <td>Republic of Yemen</td>\n",
       "      <td>Yemen, Republic of</td>\n",
       "      <td>...</td>\n",
       "      <td>JB</td>\n",
       "      <td>IBRD</td>\n",
       "      <td>Active</td>\n",
       "      <td>N</td>\n",
       "      <td>{'Percent': 50, 'Name': 'Participation and civ...</td>\n",
       "      <td>[{'code': '57', 'name': 'Participation and civ...</td>\n",
       "      <td>59,57</td>\n",
       "      <td>0</td>\n",
       "      <td>1500000</td>\n",
       "      <td>http://www.worldbank.org/projects/P144665?lang=en</td>\n",
       "    </tr>\n",
       "    <tr>\n",
       "      <th>4</th>\n",
       "      <td>{'$oid': '52b213b38594d8a2be17c784'}</td>\n",
       "      <td>2014</td>\n",
       "      <td>October</td>\n",
       "      <td>2013-10-31T00:00:00Z</td>\n",
       "      <td>MINISTRY OF FINANCE</td>\n",
       "      <td>2019-04-30T00:00:00Z</td>\n",
       "      <td>Kingdom of Lesotho!$!LS</td>\n",
       "      <td>LS</td>\n",
       "      <td>Kingdom of Lesotho</td>\n",
       "      <td>Lesotho</td>\n",
       "      <td>...</td>\n",
       "      <td>FH,YW,YZ</td>\n",
       "      <td>IBRD</td>\n",
       "      <td>Active</td>\n",
       "      <td>N</td>\n",
       "      <td>{'Percent': 30, 'Name': 'Export development an...</td>\n",
       "      <td>[{'code': '45', 'name': 'Export development an...</td>\n",
       "      <td>41,45</td>\n",
       "      <td>13100000</td>\n",
       "      <td>13100000</td>\n",
       "      <td>http://www.worldbank.org/projects/P144933/seco...</td>\n",
       "    </tr>\n",
       "  </tbody>\n",
       "</table>\n",
       "<p>5 rows × 50 columns</p>\n",
       "</div>"
      ],
      "text/plain": [
       "                                    _id  approvalfy board_approval_month  \\\n",
       "0  {'$oid': '52b213b38594d8a2be17c780'}        1999             November   \n",
       "1  {'$oid': '52b213b38594d8a2be17c781'}        2015             November   \n",
       "2  {'$oid': '52b213b38594d8a2be17c782'}        2014             November   \n",
       "3  {'$oid': '52b213b38594d8a2be17c783'}        2014              October   \n",
       "4  {'$oid': '52b213b38594d8a2be17c784'}        2014              October   \n",
       "\n",
       "      boardapprovaldate                                 borrower  \\\n",
       "0  2013-11-12T00:00:00Z  FEDERAL DEMOCRATIC REPUBLIC OF ETHIOPIA   \n",
       "1  2013-11-04T00:00:00Z                    GOVERNMENT OF TUNISIA   \n",
       "2  2013-11-01T00:00:00Z   MINISTRY OF FINANCE AND ECONOMIC DEVEL   \n",
       "3  2013-10-31T00:00:00Z   MIN. OF PLANNING AND INT'L COOPERATION   \n",
       "4  2013-10-31T00:00:00Z                      MINISTRY OF FINANCE   \n",
       "\n",
       "            closingdate                              country_namecode  \\\n",
       "0  2018-07-07T00:00:00Z  Federal Democratic Republic of Ethiopia!$!ET   \n",
       "1                   NaN                      Republic of Tunisia!$!TN   \n",
       "2                   NaN                                   Tuvalu!$!TV   \n",
       "3                   NaN                        Republic of Yemen!$!RY   \n",
       "4  2019-04-30T00:00:00Z                       Kingdom of Lesotho!$!LS   \n",
       "\n",
       "  countrycode                              countryname    countryshortname  \\\n",
       "0          ET  Federal Democratic Republic of Ethiopia            Ethiopia   \n",
       "1          TN                      Republic of Tunisia             Tunisia   \n",
       "2          TV                                   Tuvalu              Tuvalu   \n",
       "3          RY                        Republic of Yemen  Yemen, Republic of   \n",
       "4          LS                       Kingdom of Lesotho             Lesotho   \n",
       "\n",
       "   ...   sectorcode source  status  supplementprojectflg  \\\n",
       "0  ...  ET,BS,ES,EP   IBRD  Active                     N   \n",
       "1  ...        BZ,BS   IBRD  Active                     N   \n",
       "2  ...           TI   IBRD  Active                     Y   \n",
       "3  ...           JB   IBRD  Active                     N   \n",
       "4  ...     FH,YW,YZ   IBRD  Active                     N   \n",
       "\n",
       "                                              theme1  \\\n",
       "0      {'Percent': 100, 'Name': 'Education for all'}   \n",
       "1  {'Percent': 30, 'Name': 'Other economic manage...   \n",
       "2    {'Percent': 46, 'Name': 'Regional integration'}   \n",
       "3  {'Percent': 50, 'Name': 'Participation and civ...   \n",
       "4  {'Percent': 30, 'Name': 'Export development an...   \n",
       "\n",
       "                                      theme_namecode    themecode   totalamt  \\\n",
       "0      [{'code': '65', 'name': 'Education for all'}]           65  130000000   \n",
       "1  [{'code': '24', 'name': 'Other economic manage...        54,24          0   \n",
       "2  [{'code': '47', 'name': 'Regional integration'...  52,81,25,47    6060000   \n",
       "3  [{'code': '57', 'name': 'Participation and civ...        59,57          0   \n",
       "4  [{'code': '45', 'name': 'Export development an...        41,45   13100000   \n",
       "\n",
       "  totalcommamt                                                url  \n",
       "0    130000000  http://www.worldbank.org/projects/P129828/ethi...  \n",
       "1      4700000  http://www.worldbank.org/projects/P144674?lang=en  \n",
       "2      6060000  http://www.worldbank.org/projects/P145310?lang=en  \n",
       "3      1500000  http://www.worldbank.org/projects/P144665?lang=en  \n",
       "4     13100000  http://www.worldbank.org/projects/P144933/seco...  \n",
       "\n",
       "[5 rows x 50 columns]"
      ]
     },
     "execution_count": 49,
     "metadata": {},
     "output_type": "execute_result"
    }
   ],
   "source": [
    "data.head()"
   ]
  },
  {
   "cell_type": "code",
   "execution_count": 50,
   "metadata": {},
   "outputs": [],
   "source": [
    "data.to_csv(\"./DATA/world_bank_projects.csv\", header=True)"
   ]
  },
  {
   "cell_type": "markdown",
   "metadata": {},
   "source": [
    "# Top 10 countries with most projects:"
   ]
  },
  {
   "cell_type": "raw",
   "metadata": {},
   "source": [
    "We are mainly interested with ['countryname', 'countryshortname'] "
   ]
  },
  {
   "cell_type": "raw",
   "metadata": {},
   "source": [
    "sql script:\n",
    "\n",
    "select col1, count(distinct col1) from table  group by col1 order by col1 limit 5;\n",
    "\n"
   ]
  },
  {
   "cell_type": "code",
   "execution_count": 51,
   "metadata": {},
   "outputs": [
    {
     "data": {
      "text/html": [
       "<div>\n",
       "<style scoped>\n",
       "    .dataframe tbody tr th:only-of-type {\n",
       "        vertical-align: middle;\n",
       "    }\n",
       "\n",
       "    .dataframe tbody tr th {\n",
       "        vertical-align: top;\n",
       "    }\n",
       "\n",
       "    .dataframe thead th {\n",
       "        text-align: right;\n",
       "    }\n",
       "</style>\n",
       "<table border=\"1\" class=\"dataframe\">\n",
       "  <thead>\n",
       "    <tr style=\"text-align: right;\">\n",
       "      <th></th>\n",
       "      <th>countryname</th>\n",
       "    </tr>\n",
       "    <tr>\n",
       "      <th>countryshortname</th>\n",
       "      <th></th>\n",
       "    </tr>\n",
       "  </thead>\n",
       "  <tbody>\n",
       "    <tr>\n",
       "      <th>China</th>\n",
       "      <td>19</td>\n",
       "    </tr>\n",
       "    <tr>\n",
       "      <th>Indonesia</th>\n",
       "      <td>19</td>\n",
       "    </tr>\n",
       "    <tr>\n",
       "      <th>Vietnam</th>\n",
       "      <td>17</td>\n",
       "    </tr>\n",
       "  </tbody>\n",
       "</table>\n",
       "</div>"
      ],
      "text/plain": [
       "                  countryname\n",
       "countryshortname             \n",
       "China                      19\n",
       "Indonesia                  19\n",
       "Vietnam                    17"
      ]
     },
     "execution_count": 51,
     "metadata": {},
     "output_type": "execute_result"
    }
   ],
   "source": [
    "#data1 = data.loc[:, ['countryname','countryshortname']].groupby('countryshortname').count().sort_values('countryname', ascending=False)\n",
    "data1 = data.loc[:, ['countryname', 'countryshortname']].groupby('countryshortname').count().sort_values('countryname', ascending=False)\n",
    "data1.head(3)"
   ]
  },
  {
   "cell_type": "markdown",
   "metadata": {},
   "source": [
    "# Data Cleaning"
   ]
  },
  {
   "cell_type": "code",
   "execution_count": 52,
   "metadata": {},
   "outputs": [
    {
     "data": {
      "text/plain": [
       "China                 19\n",
       "Indonesia             19\n",
       "Vietnam               17\n",
       "India                 16\n",
       "Yemen, Republic of    13\n",
       "Morocco               12\n",
       "Nepal                 12\n",
       "Bangladesh            12\n",
       "Africa                11\n",
       "Mozambique            11\n",
       "Name: countryshortname, dtype: int64"
      ]
     },
     "execution_count": 52,
     "metadata": {},
     "output_type": "execute_result"
    }
   ],
   "source": [
    "data['countryshortname'].value_counts()[0:10]"
   ]
  },
  {
   "cell_type": "code",
   "execution_count": 53,
   "metadata": {},
   "outputs": [
    {
     "data": {
      "image/png": "[encoded data removed]",
      "text/plain": [
       "<Figure size 864x288 with 1 Axes>"
      ]
     },
     "metadata": {
      "needs_background": "light"
     },
     "output_type": "display_data"
    }
   ],
   "source": [
    "data['countryshortname'].value_counts()[0:10].plot(kind='bar', figsize=(12,4))\n",
    "plt.show()"
   ]
  },
  {
   "cell_type": "code",
   "execution_count": 54,
   "metadata": {},
   "outputs": [
    {
     "data": {
      "image/png": "[encoded data removed]",
      "text/plain": [
       "<Figure size 864x288 with 1 Axes>"
      ]
     },
     "metadata": {
      "needs_background": "light"
     },
     "output_type": "display_data"
    }
   ],
   "source": [
    "data1[0:10].plot(kind='bar', figsize=(12,4))\n",
    "plt.show()"
   ]
  },
  {
   "cell_type": "markdown",
   "metadata": {},
   "source": [
    "# Top 10 major project themes for column 'mjtheme_namecode'"
   ]
  },
  {
   "cell_type": "code",
   "execution_count": 55,
   "metadata": {},
   "outputs": [
    {
     "data": {
      "text/html": [
       "<div>\n",
       "<style scoped>\n",
       "    .dataframe tbody tr th:only-of-type {\n",
       "        vertical-align: middle;\n",
       "    }\n",
       "\n",
       "    .dataframe tbody tr th {\n",
       "        vertical-align: top;\n",
       "    }\n",
       "\n",
       "    .dataframe thead th {\n",
       "        text-align: right;\n",
       "    }\n",
       "</style>\n",
       "<table border=\"1\" class=\"dataframe\">\n",
       "  <thead>\n",
       "    <tr style=\"text-align: right;\">\n",
       "      <th></th>\n",
       "      <th>theme_namecode</th>\n",
       "      <th>mjthemecode</th>\n",
       "    </tr>\n",
       "  </thead>\n",
       "  <tbody>\n",
       "    <tr>\n",
       "      <th>0</th>\n",
       "      <td>[{'code': '65', 'name': 'Education for all'}]</td>\n",
       "      <td>8,11</td>\n",
       "    </tr>\n",
       "    <tr>\n",
       "      <th>1</th>\n",
       "      <td>[{'code': '24', 'name': 'Other economic manage...</td>\n",
       "      <td>1,6</td>\n",
       "    </tr>\n",
       "    <tr>\n",
       "      <th>2</th>\n",
       "      <td>[{'code': '47', 'name': 'Regional integration'...</td>\n",
       "      <td>5,2,11,6</td>\n",
       "    </tr>\n",
       "    <tr>\n",
       "      <th>3</th>\n",
       "      <td>[{'code': '57', 'name': 'Participation and civ...</td>\n",
       "      <td>7,7</td>\n",
       "    </tr>\n",
       "    <tr>\n",
       "      <th>4</th>\n",
       "      <td>[{'code': '45', 'name': 'Export development an...</td>\n",
       "      <td>5,4</td>\n",
       "    </tr>\n",
       "  </tbody>\n",
       "</table>\n",
       "</div>"
      ],
      "text/plain": [
       "                                      theme_namecode mjthemecode\n",
       "0      [{'code': '65', 'name': 'Education for all'}]        8,11\n",
       "1  [{'code': '24', 'name': 'Other economic manage...         1,6\n",
       "2  [{'code': '47', 'name': 'Regional integration'...    5,2,11,6\n",
       "3  [{'code': '57', 'name': 'Participation and civ...         7,7\n",
       "4  [{'code': '45', 'name': 'Export development an...         5,4"
      ]
     },
     "execution_count": 55,
     "metadata": {},
     "output_type": "execute_result"
    }
   ],
   "source": [
    "data2 = data.loc[:, ['theme_namecode','mjthemecode']]\n",
    "data2.head()"
   ]
  },
  {
   "cell_type": "code",
   "execution_count": 56,
   "metadata": {},
   "outputs": [
    {
     "data": {
      "text/html": [
       "<div>\n",
       "<style scoped>\n",
       "    .dataframe tbody tr th:only-of-type {\n",
       "        vertical-align: middle;\n",
       "    }\n",
       "\n",
       "    .dataframe tbody tr th {\n",
       "        vertical-align: top;\n",
       "    }\n",
       "\n",
       "    .dataframe thead th {\n",
       "        text-align: right;\n",
       "    }\n",
       "</style>\n",
       "<table border=\"1\" class=\"dataframe\">\n",
       "  <thead>\n",
       "    <tr style=\"text-align: right;\">\n",
       "      <th></th>\n",
       "      <th>theme_namecode</th>\n",
       "      <th>mjthemecode</th>\n",
       "    </tr>\n",
       "  </thead>\n",
       "  <tbody>\n",
       "    <tr>\n",
       "      <th>0</th>\n",
       "      <td>[{'code': '65', 'name': 'Education for all'}]</td>\n",
       "      <td>8,11</td>\n",
       "    </tr>\n",
       "    <tr>\n",
       "      <th>1</th>\n",
       "      <td>[{'code': '24', 'name': 'Other economic manage...</td>\n",
       "      <td>1,6</td>\n",
       "    </tr>\n",
       "    <tr>\n",
       "      <th>2</th>\n",
       "      <td>[{'code': '47', 'name': 'Regional integration'...</td>\n",
       "      <td>5,2,11,6</td>\n",
       "    </tr>\n",
       "    <tr>\n",
       "      <th>3</th>\n",
       "      <td>[{'code': '57', 'name': 'Participation and civ...</td>\n",
       "      <td>7,7</td>\n",
       "    </tr>\n",
       "    <tr>\n",
       "      <th>4</th>\n",
       "      <td>[{'code': '45', 'name': 'Export development an...</td>\n",
       "      <td>5,4</td>\n",
       "    </tr>\n",
       "    <tr>\n",
       "      <th>5</th>\n",
       "      <td>[{'code': '54', 'name': 'Social safety nets'}]</td>\n",
       "      <td>6,6</td>\n",
       "    </tr>\n",
       "    <tr>\n",
       "      <th>6</th>\n",
       "      <td>[{'code': '25', 'name': 'Administrative and ci...</td>\n",
       "      <td>2,4</td>\n",
       "    </tr>\n",
       "    <tr>\n",
       "      <th>7</th>\n",
       "      <td>[{'code': '81', 'name': 'Climate change'}]</td>\n",
       "      <td>11,8</td>\n",
       "    </tr>\n",
       "    <tr>\n",
       "      <th>8</th>\n",
       "      <td>[{'code': '79', 'name': 'Other rural developme...</td>\n",
       "      <td>10,7</td>\n",
       "    </tr>\n",
       "    <tr>\n",
       "      <th>9</th>\n",
       "      <td>[{'code': '29', 'name': 'Other accountability/...</td>\n",
       "      <td>2,2,2</td>\n",
       "    </tr>\n",
       "    <tr>\n",
       "      <th>10</th>\n",
       "      <td>[{'code': '91', 'name': 'Global food crisis re...</td>\n",
       "      <td>10,2</td>\n",
       "    </tr>\n",
       "    <tr>\n",
       "      <th>11</th>\n",
       "      <td>[{'code': '78', 'name': 'Rural services and in...</td>\n",
       "      <td>10,6,6,11</td>\n",
       "    </tr>\n",
       "    <tr>\n",
       "      <th>13</th>\n",
       "      <td>[{'code': '47', 'name': 'Regional integration'...</td>\n",
       "      <td>5,11,10</td>\n",
       "    </tr>\n",
       "    <tr>\n",
       "      <th>14</th>\n",
       "      <td>[{'code': '54', 'name': 'Social safety nets'},...</td>\n",
       "      <td>6,6,6</td>\n",
       "    </tr>\n",
       "    <tr>\n",
       "      <th>15</th>\n",
       "      <td>[{'code': '78', 'name': 'Rural services and in...</td>\n",
       "      <td>10,11,5</td>\n",
       "    </tr>\n",
       "  </tbody>\n",
       "</table>\n",
       "</div>"
      ],
      "text/plain": [
       "                                       theme_namecode mjthemecode\n",
       "0       [{'code': '65', 'name': 'Education for all'}]        8,11\n",
       "1   [{'code': '24', 'name': 'Other economic manage...         1,6\n",
       "2   [{'code': '47', 'name': 'Regional integration'...    5,2,11,6\n",
       "3   [{'code': '57', 'name': 'Participation and civ...         7,7\n",
       "4   [{'code': '45', 'name': 'Export development an...         5,4\n",
       "5      [{'code': '54', 'name': 'Social safety nets'}]         6,6\n",
       "6   [{'code': '25', 'name': 'Administrative and ci...         2,4\n",
       "7          [{'code': '81', 'name': 'Climate change'}]        11,8\n",
       "8   [{'code': '79', 'name': 'Other rural developme...        10,7\n",
       "9   [{'code': '29', 'name': 'Other accountability/...       2,2,2\n",
       "10  [{'code': '91', 'name': 'Global food crisis re...        10,2\n",
       "11  [{'code': '78', 'name': 'Rural services and in...   10,6,6,11\n",
       "13  [{'code': '47', 'name': 'Regional integration'...     5,11,10\n",
       "14  [{'code': '54', 'name': 'Social safety nets'},...       6,6,6\n",
       "15  [{'code': '78', 'name': 'Rural services and in...     10,11,5"
      ]
     },
     "execution_count": 56,
     "metadata": {},
     "output_type": "execute_result"
    }
   ],
   "source": [
    "data2.dropna(inplace=True)\n",
    "data2.head(15)"
   ]
  },
  {
   "cell_type": "code",
   "execution_count": 57,
   "metadata": {},
   "outputs": [
    {
     "data": {
      "text/plain": [
       "'Education for all'"
      ]
     },
     "execution_count": 57,
     "metadata": {},
     "output_type": "execute_result"
    }
   ],
   "source": [
    "#for n in range(len(data2)):\n",
    "data2.loc[0,:][\"theme_namecode\"][0]['name']\n"
   ]
  },
  {
   "cell_type": "code",
   "execution_count": 59,
   "metadata": {},
   "outputs": [],
   "source": [
    "import json"
   ]
  },
  {
   "cell_type": "code",
   "execution_count": 60,
   "metadata": {},
   "outputs": [],
   "source": [
    "with open('data/world_bank_projects.json') as fh:\n",
    "    data = json.load(fh)"
   ]
  },
  {
   "cell_type": "code",
   "execution_count": 69,
   "metadata": {},
   "outputs": [
    {
     "data": {
      "text/plain": [
       "(list,\n",
       " 50,\n",
       " {'sector': [{'Name': 'General water, sanitation and flood protection sector'},\n",
       "   {'Name': 'Public administration- Water, sanitation and flood protection'},\n",
       "   {'Name': 'Information technology'}],\n",
       "  'supplementprojectflg': 'N',\n",
       "  'projectfinancialtype': 'IBRD',\n",
       "  'prodline': 'PE',\n",
       "  'mjtheme': ['Environment and natural resources management',\n",
       "   'Social protection and risk management',\n",
       "   'Environment and natural resources management',\n",
       "   'Environment and natural resources management'],\n",
       "  'idacommamt': 0,\n",
       "  'impagency': 'RUSSIA HYROMETEOROLOGICAL SERVICE',\n",
       "  'project_name': 'RUSSIA HYDROMETEOROLOGICAL SERVICES MODERNIZATION',\n",
       "  'mjthemecode': '11,6,11,11',\n",
       "  'closingdate': '2018-12-31T00:00:00Z',\n",
       "  'totalcommamt': 60000000,\n",
       "  'id': 'P127676',\n",
       "  'mjsector_namecode': [{'code': 'WX',\n",
       "    'name': 'Water, sanitation and flood protection'},\n",
       "   {'code': 'BX', 'name': 'Public Administration, Law, and Justice'},\n",
       "   {'code': 'CX', 'name': 'Information and communications'}],\n",
       "  'docty': 'Project Appraisal Document,Integrated Safeguards Data Sheet,Project Information Document,Project Information Document,Integrated Safeguards Data Sheet',\n",
       "  'sector1': {'Percent': 40,\n",
       "   'Name': 'General water, sanitation and flood protection sector'},\n",
       "  'lendinginstr': 'Specific Investment Loan',\n",
       "  'countrycode': 'RU',\n",
       "  'sector2': {'Percent': 40,\n",
       "   'Name': 'Public administration- Water, sanitation and flood protection'},\n",
       "  'totalamt': 60000000,\n",
       "  'mjtheme_namecode': [{'code': '11',\n",
       "    'name': 'Environment and natural resources management'},\n",
       "   {'code': '6', 'name': 'Social protection and risk management'},\n",
       "   {'code': '11', 'name': 'Environment and natural resources management'},\n",
       "   {'code': '11', 'name': 'Environment and natural resources management'}],\n",
       "  'boardapprovaldate': '2013-09-17T00:00:00Z',\n",
       "  'countryshortname': 'Russian Federation',\n",
       "  'source': 'IBRD',\n",
       "  'prodlinetext': 'IBRD/IDA',\n",
       "  'productlinetype': 'L',\n",
       "  'regionname': 'Europe and Central Asia',\n",
       "  'status': 'Active',\n",
       "  'country_namecode': 'Russian Federation!$!RU',\n",
       "  'envassesmentcategorycode': 'C',\n",
       "  'project_abstract': {'cdata': \"The objective of the Second National Hydromet Modernization Project for Russian Federation is to further enhance the national capacity to deliver reliable and timely weather, hydrological, and climate information to the Russian public and economic sector and enhance Russia's capacity to integrate into the global system of meteorological services. The project has four components. The first component is strengthening Information Communication Technology (ICT) infrastructure and systems delivering weather, climate, and hydrological data and information. This component will strengthen the ICT infrastructure and technical capabilities in order to improve operational forecasting and other hydro meteorological products, support research on climate change, improve access to Roshydromet's data and information including to archived data. This component has following three sub-components: (i) strengthening technical capacity for operational hydro meteorological forecasting, research on climate and climate change; (ii) developing regional data storage and archive systems for improved operational user access to Roshydromet information resources; and (iii) improving Roshydromet's integrated information and telecommunication system. The second component is modernization of observation networks. The main objective of this component is modernization of equipment and technologies of key elements of Roshydromet's observation networks and integrated modernization of the hydrological network in the Volga river basin. It has following four sub-components: (i) development of meteorological observation system and improve reliability of operations and increase a number of automatically measured parameters; (ii) support completion of modernization of upper air network launched under Roshydromet-one project; (iii) strengthen satellite data reception capability of Roshydromet organizations; and (iv) support considerable improvement of hydrological services provided to the government and general public in the Volga river basin by modernizing hydrological network, improvement of reliability of hydrological forecasts and flooding. The third component is institutional and regulatory strengthening, improvement of service delivery to clients and better preparedness for emergencies. The objective of this component is to improve the performance of Roshydromet service in line with international experience, through capacity building of operational and research staff, improvement of service delivery in response to growing societal needs and better preparedness for emergency situations. It has following four sub-components: (i) support the improvement of Roshydromet's performance particularly focusing on delivery of public services; (ii) support improvement of service delivery to clients by better user needs assessment and introduction of modern information technologies to reduce the gap between user needs and ability to deliver them to users; (iii) support improved interaction with the ministry of emergency situations and other federal and territorial bodies responsible for early warning of dangerous hydro meteorological events and public safety; and (iv) provide support for strengthening Roshydromet's scientific and research potential on a range of operational themes aligned with modernization priorities. The fourth component is project management. This component will finance provision of consultants' services, provision of equipment to be used by Bureau of Economic Analysis (BEA) and financing of operating costs, all in relation to management of project implementation.\"},\n",
       "  'approvalfy': '2014',\n",
       "  'projectdocs': [{'DocDate': '22-AUG-2013',\n",
       "    'EntityID': '000442464_20130902100059',\n",
       "    'DocURL': 'http://www-wds.worldbank.org/servlet/WDSServlet?pcont=details&eid=000442464_20130902100059',\n",
       "    'DocType': 'PAD',\n",
       "    'DocTypeDesc': 'Project Appraisal Document (PAD),  Vol.1 of 1'},\n",
       "   {'DocDate': '05-NOV-2012',\n",
       "    'EntityID': '090224b08175e65d_1_0',\n",
       "    'DocURL': 'http://www-wds.worldbank.org/servlet/WDSServlet?pcont=details&eid=090224b08175e65d_1_0',\n",
       "    'DocType': 'ISDS',\n",
       "    'DocTypeDesc': 'Integrated Safeguards Data Sheet (ISDS),  Vol.'},\n",
       "   {'DocDate': '05-NOV-2012',\n",
       "    'EntityID': '090224b08175cdaf_1_0',\n",
       "    'DocURL': 'http://www-wds.worldbank.org/servlet/WDSServlet?pcont=details&eid=090224b08175cdaf_1_0',\n",
       "    'DocType': 'PID',\n",
       "    'DocTypeDesc': 'Project Information Document (PID),  Vol.'},\n",
       "   {'DocDate': '09-NOV-2011',\n",
       "    'EntityID': '0000A8056_2011110910453130',\n",
       "    'DocURL': 'http://www-wds.worldbank.org/servlet/WDSServlet?pcont=details&eid=0000A8056_2011110910453130',\n",
       "    'DocType': 'PID',\n",
       "    'DocTypeDesc': 'Project Information Document (PID),  Vol.'},\n",
       "   {'DocDate': '03-NOV-2011',\n",
       "    'EntityID': '0000A8056_2011110319121577',\n",
       "    'DocURL': 'http://www-wds.worldbank.org/servlet/WDSServlet?pcont=details&eid=0000A8056_2011110319121577',\n",
       "    'DocType': 'INTEGRATED SAFEGUARDS DATA SHEET',\n",
       "    'DocTypeDesc': 'Integrated Safeguards Data Sheet (INTEGRATED SAFEGUARDS DATA SHEET),  Vol.'}],\n",
       "  'lendprojectcost': 139500000,\n",
       "  'lendinginstrtype': 'IN',\n",
       "  'theme1': {'Percent': 30, 'Name': 'Climate change'},\n",
       "  'grantamt': 0,\n",
       "  'themecode': '85,82,52,81',\n",
       "  'borrower': 'GOVERNMNET OF RUSSIAN FEDERATION',\n",
       "  'sectorcode': 'CA,BW,WZ',\n",
       "  'sector3': {'Percent': 20, 'Name': 'Information technology'},\n",
       "  'majorsector_percent': [{'Percent': 40,\n",
       "    'Name': 'Water, sanitation and flood protection'},\n",
       "   {'Percent': 40, 'Name': 'Public Administration, Law, and Justice'},\n",
       "   {'Percent': 20, 'Name': 'Information and communications'}],\n",
       "  'board_approval_month': 'September',\n",
       "  'theme_namecode': [{'code': '81', 'name': 'Climate change'},\n",
       "   {'code': '52', 'name': 'Natural disaster management'},\n",
       "   {'code': '82', 'name': 'Environmental policies and institutions'},\n",
       "   {'code': '85', 'name': 'Water resource management'}],\n",
       "  'countryname': 'Russian Federation',\n",
       "  'url': 'http://www.worldbank.org/projects/P127676/russia-hydrometeorological-services-modernization?lang=en',\n",
       "  'projectstatusdisplay': 'Active',\n",
       "  'ibrdcommamt': 60000000,\n",
       "  'sector_namecode': [{'code': 'WZ',\n",
       "    'name': 'General water, sanitation and flood protection sector'},\n",
       "   {'code': 'BW',\n",
       "    'name': 'Public administration- Water, sanitation and flood protection'},\n",
       "   {'code': 'CA', 'name': 'Information technology'}],\n",
       "  '_id': {'$oid': '52b213b38594d8a2be17c7a8'}})"
      ]
     },
     "execution_count": 69,
     "metadata": {},
     "output_type": "execute_result"
    }
   ],
   "source": [
    "type(data), len(data[0]), data[40]"
   ]
  },
  {
   "cell_type": "code",
   "execution_count": 77,
   "metadata": {},
   "outputs": [],
   "source": [
    "from pandas.io.json import json_normalize"
   ]
  },
  {
   "cell_type": "code",
   "execution_count": 79,
   "metadata": {},
   "outputs": [
    {
     "data": {
      "text/html": [
       "<div>\n",
       "<style scoped>\n",
       "    .dataframe tbody tr th:only-of-type {\n",
       "        vertical-align: middle;\n",
       "    }\n",
       "\n",
       "    .dataframe tbody tr th {\n",
       "        vertical-align: top;\n",
       "    }\n",
       "\n",
       "    .dataframe thead th {\n",
       "        text-align: right;\n",
       "    }\n",
       "</style>\n",
       "<table border=\"1\" class=\"dataframe\">\n",
       "  <thead>\n",
       "    <tr style=\"text-align: right;\">\n",
       "      <th></th>\n",
       "      <th>code</th>\n",
       "      <th>name</th>\n",
       "    </tr>\n",
       "  </thead>\n",
       "  <tbody>\n",
       "    <tr>\n",
       "      <th>0</th>\n",
       "      <td>8</td>\n",
       "      <td>Human development</td>\n",
       "    </tr>\n",
       "    <tr>\n",
       "      <th>1</th>\n",
       "      <td>11</td>\n",
       "      <td></td>\n",
       "    </tr>\n",
       "    <tr>\n",
       "      <th>2</th>\n",
       "      <td>1</td>\n",
       "      <td>Economic management</td>\n",
       "    </tr>\n",
       "    <tr>\n",
       "      <th>3</th>\n",
       "      <td>6</td>\n",
       "      <td>Social protection and risk management</td>\n",
       "    </tr>\n",
       "    <tr>\n",
       "      <th>4</th>\n",
       "      <td>5</td>\n",
       "      <td>Trade and integration</td>\n",
       "    </tr>\n",
       "  </tbody>\n",
       "</table>\n",
       "</div>"
      ],
      "text/plain": [
       "  code                                   name\n",
       "0    8                      Human development\n",
       "1   11                                       \n",
       "2    1                    Economic management\n",
       "3    6  Social protection and risk management\n",
       "4    5                  Trade and integration"
      ]
     },
     "execution_count": 79,
     "metadata": {},
     "output_type": "execute_result"
    }
   ],
   "source": [
    "df = json_normalize(data, 'mjtheme_namecode')\n",
    "df.head()"
   ]
  },
  {
   "cell_type": "code",
   "execution_count": 82,
   "metadata": {},
   "outputs": [
    {
     "data": {
      "text/html": [
       "<div>\n",
       "<style scoped>\n",
       "    .dataframe tbody tr th:only-of-type {\n",
       "        vertical-align: middle;\n",
       "    }\n",
       "\n",
       "    .dataframe tbody tr th {\n",
       "        vertical-align: top;\n",
       "    }\n",
       "\n",
       "    .dataframe thead th {\n",
       "        text-align: right;\n",
       "    }\n",
       "</style>\n",
       "<table border=\"1\" class=\"dataframe\">\n",
       "  <thead>\n",
       "    <tr style=\"text-align: right;\">\n",
       "      <th></th>\n",
       "      <th>code</th>\n",
       "      <th>name</th>\n",
       "    </tr>\n",
       "  </thead>\n",
       "  <tbody>\n",
       "    <tr>\n",
       "      <th>0</th>\n",
       "      <td>8</td>\n",
       "      <td>Human development</td>\n",
       "    </tr>\n",
       "    <tr>\n",
       "      <th>1</th>\n",
       "      <td>11</td>\n",
       "      <td>NAME_MISSING</td>\n",
       "    </tr>\n",
       "    <tr>\n",
       "      <th>2</th>\n",
       "      <td>1</td>\n",
       "      <td>Economic management</td>\n",
       "    </tr>\n",
       "    <tr>\n",
       "      <th>3</th>\n",
       "      <td>6</td>\n",
       "      <td>Social protection and risk management</td>\n",
       "    </tr>\n",
       "    <tr>\n",
       "      <th>4</th>\n",
       "      <td>5</td>\n",
       "      <td>Trade and integration</td>\n",
       "    </tr>\n",
       "    <tr>\n",
       "      <th>5</th>\n",
       "      <td>2</td>\n",
       "      <td>Public sector governance</td>\n",
       "    </tr>\n",
       "    <tr>\n",
       "      <th>6</th>\n",
       "      <td>11</td>\n",
       "      <td>Environment and natural resources management</td>\n",
       "    </tr>\n",
       "    <tr>\n",
       "      <th>7</th>\n",
       "      <td>6</td>\n",
       "      <td>Social protection and risk management</td>\n",
       "    </tr>\n",
       "    <tr>\n",
       "      <th>8</th>\n",
       "      <td>7</td>\n",
       "      <td>Social dev/gender/inclusion</td>\n",
       "    </tr>\n",
       "    <tr>\n",
       "      <th>9</th>\n",
       "      <td>7</td>\n",
       "      <td>Social dev/gender/inclusion</td>\n",
       "    </tr>\n",
       "    <tr>\n",
       "      <th>10</th>\n",
       "      <td>5</td>\n",
       "      <td>Trade and integration</td>\n",
       "    </tr>\n",
       "    <tr>\n",
       "      <th>11</th>\n",
       "      <td>4</td>\n",
       "      <td>Financial and private sector development</td>\n",
       "    </tr>\n",
       "    <tr>\n",
       "      <th>12</th>\n",
       "      <td>6</td>\n",
       "      <td>Social protection and risk management</td>\n",
       "    </tr>\n",
       "    <tr>\n",
       "      <th>13</th>\n",
       "      <td>6</td>\n",
       "      <td>NAME_MISSING</td>\n",
       "    </tr>\n",
       "    <tr>\n",
       "      <th>14</th>\n",
       "      <td>2</td>\n",
       "      <td>Public sector governance</td>\n",
       "    </tr>\n",
       "  </tbody>\n",
       "</table>\n",
       "</div>"
      ],
      "text/plain": [
       "   code                                          name\n",
       "0     8                             Human development\n",
       "1    11                                  NAME_MISSING\n",
       "2     1                           Economic management\n",
       "3     6         Social protection and risk management\n",
       "4     5                         Trade and integration\n",
       "5     2                      Public sector governance\n",
       "6    11  Environment and natural resources management\n",
       "7     6         Social protection and risk management\n",
       "8     7                   Social dev/gender/inclusion\n",
       "9     7                   Social dev/gender/inclusion\n",
       "10    5                         Trade and integration\n",
       "11    4      Financial and private sector development\n",
       "12    6         Social protection and risk management\n",
       "13    6                                  NAME_MISSING\n",
       "14    2                      Public sector governance"
      ]
     },
     "execution_count": 82,
     "metadata": {},
     "output_type": "execute_result"
    }
   ],
   "source": [
    "df.name.replace(' ', 'NAME_MISSING', inplace=True)\n",
    "df.head(15)"
   ]
  },
  {
   "cell_type": "code",
   "execution_count": 111,
   "metadata": {},
   "outputs": [
    {
     "data": {
      "image/png": "[encoded data removed]",
      "text/plain": [
       "<Figure size 864x288 with 1 Axes>"
      ]
     },
     "metadata": {
      "needs_background": "light"
     },
     "output_type": "display_data"
    }
   ],
   "source": [
    "df['name'].value_counts().plot(kind='bar', figsize=(12,4))\n",
    "plt.show()"
   ]
  },
  {
   "cell_type": "code",
   "execution_count": null,
   "metadata": {},
   "outputs": [],
   "source": []
  },
  {
   "cell_type": "code",
   "execution_count": null,
   "metadata": {},
   "outputs": [],
   "source": []
  },
  {
   "cell_type": "code",
   "execution_count": null,
   "metadata": {},
   "outputs": [],
   "source": []
  }
 ],
 "metadata": {
  "kernelspec": {
   "display_name": "Python 3",
   "language": "python",
   "name": "python3"
  },
  "language_info": {
   "codemirror_mode": {
    "name": "ipython",
    "version": 3
   },
   "file_extension": ".py",
   "mimetype": "text/x-python",
   "name": "python",
   "nbconvert_exporter": "python",
   "pygments_lexer": "ipython3",
   "version": "3.7.3"
  }
 },
 "nbformat": 4,
 "nbformat_minor": 2
}
